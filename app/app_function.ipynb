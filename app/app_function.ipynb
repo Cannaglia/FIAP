{
 "cells": [
  {
   "cell_type": "markdown",
   "metadata": {},
   "source": [
    "Checkpoint #1 RPA\n",
    "Grupo Verde:\n",
    "\n",
    "\n",
    "\n",
    "Fabio Lanfranchi, 87226\n",
    "\n",
    "Genival Jr, 88879\n",
    "\n",
    "Lucas Alves, 87050"
   ]
  },
  {
   "cell_type": "markdown",
   "metadata": {},
   "source": [
    "### Projeto\n",
    "Desenvolver uma apis que realize uma série de tarefas, descritas no arquivo do checkpoint."
   ]
  },
  {
   "cell_type": "code",
   "execution_count": 2,
   "metadata": {},
   "outputs": [],
   "source": [
    "# import packages\n",
    "import pandas as pd\n",
    "import matplotlib.pyplot as plt\n",
    "import pytz\n",
    "import datetime\n",
    "from datetime import datetime\n",
    "from datetime import timedelta\n",
    "from flask import send_from_directory\n",
    "from flask import Flask\n",
    "import seaborn as sns\n",
    "#import aspose.words as aw\n",
    "#from flask.globals import request\n",
    "#import os\n",
    "#import sys\n",
    "\n",
    "# import directly from GitHub\n",
    "df = pd.read_csv(\"https://raw.githubusercontent.com/wcota/covid19br/master/cases-brazil-states.csv\")"
   ]
  },
  {
   "cell_type": "code",
   "execution_count": 3,
   "metadata": {},
   "outputs": [
    {
     "data": {
      "text/html": [
       "<div>\n",
       "<style scoped>\n",
       "    .dataframe tbody tr th:only-of-type {\n",
       "        vertical-align: middle;\n",
       "    }\n",
       "\n",
       "    .dataframe tbody tr th {\n",
       "        vertical-align: top;\n",
       "    }\n",
       "\n",
       "    .dataframe thead th {\n",
       "        text-align: right;\n",
       "    }\n",
       "</style>\n",
       "<table border=\"1\" class=\"dataframe\">\n",
       "  <thead>\n",
       "    <tr style=\"text-align: right;\">\n",
       "      <th></th>\n",
       "      <th>epi_week</th>\n",
       "      <th>date</th>\n",
       "      <th>country</th>\n",
       "      <th>state</th>\n",
       "      <th>city</th>\n",
       "      <th>newDeaths</th>\n",
       "      <th>deaths</th>\n",
       "      <th>newCases</th>\n",
       "      <th>totalCases</th>\n",
       "      <th>deathsMS</th>\n",
       "      <th>...</th>\n",
       "      <th>tests</th>\n",
       "      <th>tests_per_100k_inhabitants</th>\n",
       "      <th>vaccinated</th>\n",
       "      <th>vaccinated_per_100_inhabitants</th>\n",
       "      <th>vaccinated_second</th>\n",
       "      <th>vaccinated_second_per_100_inhabitants</th>\n",
       "      <th>vaccinated_single</th>\n",
       "      <th>vaccinated_single_per_100_inhabitants</th>\n",
       "      <th>vaccinated_third</th>\n",
       "      <th>vaccinated_third_per_100_inhabitants</th>\n",
       "    </tr>\n",
       "  </thead>\n",
       "  <tbody>\n",
       "    <tr>\n",
       "      <th>0</th>\n",
       "      <td>9</td>\n",
       "      <td>2020-02-25</td>\n",
       "      <td>Brazil</td>\n",
       "      <td>SP</td>\n",
       "      <td>TOTAL</td>\n",
       "      <td>0</td>\n",
       "      <td>0</td>\n",
       "      <td>1</td>\n",
       "      <td>1</td>\n",
       "      <td>0</td>\n",
       "      <td>...</td>\n",
       "      <td>NaN</td>\n",
       "      <td>NaN</td>\n",
       "      <td>NaN</td>\n",
       "      <td>NaN</td>\n",
       "      <td>NaN</td>\n",
       "      <td>NaN</td>\n",
       "      <td>NaN</td>\n",
       "      <td>NaN</td>\n",
       "      <td>NaN</td>\n",
       "      <td>NaN</td>\n",
       "    </tr>\n",
       "    <tr>\n",
       "      <th>1</th>\n",
       "      <td>9</td>\n",
       "      <td>2020-02-25</td>\n",
       "      <td>Brazil</td>\n",
       "      <td>TOTAL</td>\n",
       "      <td>TOTAL</td>\n",
       "      <td>0</td>\n",
       "      <td>0</td>\n",
       "      <td>1</td>\n",
       "      <td>1</td>\n",
       "      <td>0</td>\n",
       "      <td>...</td>\n",
       "      <td>NaN</td>\n",
       "      <td>NaN</td>\n",
       "      <td>NaN</td>\n",
       "      <td>NaN</td>\n",
       "      <td>NaN</td>\n",
       "      <td>NaN</td>\n",
       "      <td>NaN</td>\n",
       "      <td>NaN</td>\n",
       "      <td>NaN</td>\n",
       "      <td>NaN</td>\n",
       "    </tr>\n",
       "    <tr>\n",
       "      <th>2</th>\n",
       "      <td>9</td>\n",
       "      <td>2020-02-26</td>\n",
       "      <td>Brazil</td>\n",
       "      <td>SP</td>\n",
       "      <td>TOTAL</td>\n",
       "      <td>0</td>\n",
       "      <td>0</td>\n",
       "      <td>0</td>\n",
       "      <td>1</td>\n",
       "      <td>0</td>\n",
       "      <td>...</td>\n",
       "      <td>NaN</td>\n",
       "      <td>NaN</td>\n",
       "      <td>NaN</td>\n",
       "      <td>NaN</td>\n",
       "      <td>NaN</td>\n",
       "      <td>NaN</td>\n",
       "      <td>NaN</td>\n",
       "      <td>NaN</td>\n",
       "      <td>NaN</td>\n",
       "      <td>NaN</td>\n",
       "    </tr>\n",
       "    <tr>\n",
       "      <th>3</th>\n",
       "      <td>9</td>\n",
       "      <td>2020-02-26</td>\n",
       "      <td>Brazil</td>\n",
       "      <td>TOTAL</td>\n",
       "      <td>TOTAL</td>\n",
       "      <td>0</td>\n",
       "      <td>0</td>\n",
       "      <td>0</td>\n",
       "      <td>1</td>\n",
       "      <td>0</td>\n",
       "      <td>...</td>\n",
       "      <td>NaN</td>\n",
       "      <td>NaN</td>\n",
       "      <td>NaN</td>\n",
       "      <td>NaN</td>\n",
       "      <td>NaN</td>\n",
       "      <td>NaN</td>\n",
       "      <td>NaN</td>\n",
       "      <td>NaN</td>\n",
       "      <td>NaN</td>\n",
       "      <td>NaN</td>\n",
       "    </tr>\n",
       "    <tr>\n",
       "      <th>4</th>\n",
       "      <td>9</td>\n",
       "      <td>2020-02-27</td>\n",
       "      <td>Brazil</td>\n",
       "      <td>SP</td>\n",
       "      <td>TOTAL</td>\n",
       "      <td>0</td>\n",
       "      <td>0</td>\n",
       "      <td>0</td>\n",
       "      <td>1</td>\n",
       "      <td>0</td>\n",
       "      <td>...</td>\n",
       "      <td>NaN</td>\n",
       "      <td>NaN</td>\n",
       "      <td>NaN</td>\n",
       "      <td>NaN</td>\n",
       "      <td>NaN</td>\n",
       "      <td>NaN</td>\n",
       "      <td>NaN</td>\n",
       "      <td>NaN</td>\n",
       "      <td>NaN</td>\n",
       "      <td>NaN</td>\n",
       "    </tr>\n",
       "  </tbody>\n",
       "</table>\n",
       "<p>5 rows × 26 columns</p>\n",
       "</div>"
      ],
      "text/plain": [
       "   epi_week        date country  state   city  newDeaths  deaths  newCases  \\\n",
       "0         9  2020-02-25  Brazil     SP  TOTAL          0       0         1   \n",
       "1         9  2020-02-25  Brazil  TOTAL  TOTAL          0       0         1   \n",
       "2         9  2020-02-26  Brazil     SP  TOTAL          0       0         0   \n",
       "3         9  2020-02-26  Brazil  TOTAL  TOTAL          0       0         0   \n",
       "4         9  2020-02-27  Brazil     SP  TOTAL          0       0         0   \n",
       "\n",
       "   totalCases  deathsMS  ...  tests  tests_per_100k_inhabitants  vaccinated  \\\n",
       "0           1         0  ...    NaN                         NaN         NaN   \n",
       "1           1         0  ...    NaN                         NaN         NaN   \n",
       "2           1         0  ...    NaN                         NaN         NaN   \n",
       "3           1         0  ...    NaN                         NaN         NaN   \n",
       "4           1         0  ...    NaN                         NaN         NaN   \n",
       "\n",
       "   vaccinated_per_100_inhabitants  vaccinated_second  \\\n",
       "0                             NaN                NaN   \n",
       "1                             NaN                NaN   \n",
       "2                             NaN                NaN   \n",
       "3                             NaN                NaN   \n",
       "4                             NaN                NaN   \n",
       "\n",
       "   vaccinated_second_per_100_inhabitants  vaccinated_single  \\\n",
       "0                                    NaN                NaN   \n",
       "1                                    NaN                NaN   \n",
       "2                                    NaN                NaN   \n",
       "3                                    NaN                NaN   \n",
       "4                                    NaN                NaN   \n",
       "\n",
       "   vaccinated_single_per_100_inhabitants  vaccinated_third  \\\n",
       "0                                    NaN               NaN   \n",
       "1                                    NaN               NaN   \n",
       "2                                    NaN               NaN   \n",
       "3                                    NaN               NaN   \n",
       "4                                    NaN               NaN   \n",
       "\n",
       "   vaccinated_third_per_100_inhabitants  \n",
       "0                                   NaN  \n",
       "1                                   NaN  \n",
       "2                                   NaN  \n",
       "3                                   NaN  \n",
       "4                                   NaN  \n",
       "\n",
       "[5 rows x 26 columns]"
      ]
     },
     "execution_count": 3,
     "metadata": {},
     "output_type": "execute_result"
    }
   ],
   "source": [
    "# Imprimindo primeiros registros\n",
    "df.head(5)"
   ]
  },
  {
   "cell_type": "code",
   "execution_count": 4,
   "metadata": {},
   "outputs": [
    {
     "data": {
      "text/html": [
       "<div>\n",
       "<style scoped>\n",
       "    .dataframe tbody tr th:only-of-type {\n",
       "        vertical-align: middle;\n",
       "    }\n",
       "\n",
       "    .dataframe tbody tr th {\n",
       "        vertical-align: top;\n",
       "    }\n",
       "\n",
       "    .dataframe thead th {\n",
       "        text-align: right;\n",
       "    }\n",
       "</style>\n",
       "<table border=\"1\" class=\"dataframe\">\n",
       "  <thead>\n",
       "    <tr style=\"text-align: right;\">\n",
       "      <th></th>\n",
       "      <th>epi_week</th>\n",
       "      <th>date</th>\n",
       "      <th>country</th>\n",
       "      <th>state</th>\n",
       "      <th>city</th>\n",
       "      <th>newDeaths</th>\n",
       "      <th>deaths</th>\n",
       "      <th>newCases</th>\n",
       "      <th>totalCases</th>\n",
       "      <th>deathsMS</th>\n",
       "      <th>...</th>\n",
       "      <th>tests</th>\n",
       "      <th>tests_per_100k_inhabitants</th>\n",
       "      <th>vaccinated</th>\n",
       "      <th>vaccinated_per_100_inhabitants</th>\n",
       "      <th>vaccinated_second</th>\n",
       "      <th>vaccinated_second_per_100_inhabitants</th>\n",
       "      <th>vaccinated_single</th>\n",
       "      <th>vaccinated_single_per_100_inhabitants</th>\n",
       "      <th>vaccinated_third</th>\n",
       "      <th>vaccinated_third_per_100_inhabitants</th>\n",
       "    </tr>\n",
       "  </thead>\n",
       "  <tbody>\n",
       "    <tr>\n",
       "      <th>21289</th>\n",
       "      <td>215</td>\n",
       "      <td>2022-04-11</td>\n",
       "      <td>Brazil</td>\n",
       "      <td>SC</td>\n",
       "      <td>TOTAL</td>\n",
       "      <td>2</td>\n",
       "      <td>21704</td>\n",
       "      <td>89</td>\n",
       "      <td>1686457</td>\n",
       "      <td>21704</td>\n",
       "      <td>...</td>\n",
       "      <td>2568392.0</td>\n",
       "      <td>35847.42493</td>\n",
       "      <td>6165669.0</td>\n",
       "      <td>86.05515</td>\n",
       "      <td>5424357.0</td>\n",
       "      <td>75.70855</td>\n",
       "      <td>277356.0</td>\n",
       "      <td>3.87110</td>\n",
       "      <td>2428386.0</td>\n",
       "      <td>33.89334</td>\n",
       "    </tr>\n",
       "    <tr>\n",
       "      <th>21290</th>\n",
       "      <td>215</td>\n",
       "      <td>2022-04-11</td>\n",
       "      <td>Brazil</td>\n",
       "      <td>SE</td>\n",
       "      <td>TOTAL</td>\n",
       "      <td>1</td>\n",
       "      <td>6335</td>\n",
       "      <td>31</td>\n",
       "      <td>326774</td>\n",
       "      <td>6335</td>\n",
       "      <td>...</td>\n",
       "      <td>604183.0</td>\n",
       "      <td>26283.72782</td>\n",
       "      <td>1955676.0</td>\n",
       "      <td>85.07763</td>\n",
       "      <td>1715237.0</td>\n",
       "      <td>74.61783</td>\n",
       "      <td>40326.0</td>\n",
       "      <td>1.75430</td>\n",
       "      <td>879634.0</td>\n",
       "      <td>38.26665</td>\n",
       "    </tr>\n",
       "    <tr>\n",
       "      <th>21291</th>\n",
       "      <td>215</td>\n",
       "      <td>2022-04-11</td>\n",
       "      <td>Brazil</td>\n",
       "      <td>SP</td>\n",
       "      <td>TOTAL</td>\n",
       "      <td>0</td>\n",
       "      <td>167706</td>\n",
       "      <td>1122</td>\n",
       "      <td>5310464</td>\n",
       "      <td>167706</td>\n",
       "      <td>...</td>\n",
       "      <td>19501783.0</td>\n",
       "      <td>42469.91918</td>\n",
       "      <td>41971953.0</td>\n",
       "      <td>91.40423</td>\n",
       "      <td>38675944.0</td>\n",
       "      <td>84.22636</td>\n",
       "      <td>1238630.0</td>\n",
       "      <td>2.69742</td>\n",
       "      <td>24917567.0</td>\n",
       "      <td>54.26412</td>\n",
       "    </tr>\n",
       "    <tr>\n",
       "      <th>21292</th>\n",
       "      <td>215</td>\n",
       "      <td>2022-04-11</td>\n",
       "      <td>Brazil</td>\n",
       "      <td>TO</td>\n",
       "      <td>TOTAL</td>\n",
       "      <td>0</td>\n",
       "      <td>4147</td>\n",
       "      <td>9</td>\n",
       "      <td>303624</td>\n",
       "      <td>4147</td>\n",
       "      <td>...</td>\n",
       "      <td>903975.0</td>\n",
       "      <td>57473.10960</td>\n",
       "      <td>1136704.0</td>\n",
       "      <td>72.26960</td>\n",
       "      <td>930550.0</td>\n",
       "      <td>59.16270</td>\n",
       "      <td>48357.0</td>\n",
       "      <td>3.07445</td>\n",
       "      <td>334234.0</td>\n",
       "      <td>21.25000</td>\n",
       "    </tr>\n",
       "    <tr>\n",
       "      <th>21293</th>\n",
       "      <td>215</td>\n",
       "      <td>2022-04-11</td>\n",
       "      <td>Brazil</td>\n",
       "      <td>TOTAL</td>\n",
       "      <td>TOTAL</td>\n",
       "      <td>63</td>\n",
       "      <td>661576</td>\n",
       "      <td>7930</td>\n",
       "      <td>30161909</td>\n",
       "      <td>661327</td>\n",
       "      <td>...</td>\n",
       "      <td>70923215.0</td>\n",
       "      <td>33247.70297</td>\n",
       "      <td>176537381.0</td>\n",
       "      <td>82.75799</td>\n",
       "      <td>156818053.0</td>\n",
       "      <td>73.51387</td>\n",
       "      <td>5193807.0</td>\n",
       "      <td>2.43478</td>\n",
       "      <td>82956976.0</td>\n",
       "      <td>38.88894</td>\n",
       "    </tr>\n",
       "  </tbody>\n",
       "</table>\n",
       "<p>5 rows × 26 columns</p>\n",
       "</div>"
      ],
      "text/plain": [
       "       epi_week        date country  state   city  newDeaths  deaths  \\\n",
       "21289       215  2022-04-11  Brazil     SC  TOTAL          2   21704   \n",
       "21290       215  2022-04-11  Brazil     SE  TOTAL          1    6335   \n",
       "21291       215  2022-04-11  Brazil     SP  TOTAL          0  167706   \n",
       "21292       215  2022-04-11  Brazil     TO  TOTAL          0    4147   \n",
       "21293       215  2022-04-11  Brazil  TOTAL  TOTAL         63  661576   \n",
       "\n",
       "       newCases  totalCases  deathsMS  ...       tests  \\\n",
       "21289        89     1686457     21704  ...   2568392.0   \n",
       "21290        31      326774      6335  ...    604183.0   \n",
       "21291      1122     5310464    167706  ...  19501783.0   \n",
       "21292         9      303624      4147  ...    903975.0   \n",
       "21293      7930    30161909    661327  ...  70923215.0   \n",
       "\n",
       "       tests_per_100k_inhabitants   vaccinated  \\\n",
       "21289                 35847.42493    6165669.0   \n",
       "21290                 26283.72782    1955676.0   \n",
       "21291                 42469.91918   41971953.0   \n",
       "21292                 57473.10960    1136704.0   \n",
       "21293                 33247.70297  176537381.0   \n",
       "\n",
       "       vaccinated_per_100_inhabitants  vaccinated_second  \\\n",
       "21289                        86.05515          5424357.0   \n",
       "21290                        85.07763          1715237.0   \n",
       "21291                        91.40423         38675944.0   \n",
       "21292                        72.26960           930550.0   \n",
       "21293                        82.75799        156818053.0   \n",
       "\n",
       "       vaccinated_second_per_100_inhabitants  vaccinated_single  \\\n",
       "21289                               75.70855           277356.0   \n",
       "21290                               74.61783            40326.0   \n",
       "21291                               84.22636          1238630.0   \n",
       "21292                               59.16270            48357.0   \n",
       "21293                               73.51387          5193807.0   \n",
       "\n",
       "       vaccinated_single_per_100_inhabitants  vaccinated_third  \\\n",
       "21289                                3.87110         2428386.0   \n",
       "21290                                1.75430          879634.0   \n",
       "21291                                2.69742        24917567.0   \n",
       "21292                                3.07445          334234.0   \n",
       "21293                                2.43478        82956976.0   \n",
       "\n",
       "       vaccinated_third_per_100_inhabitants  \n",
       "21289                              33.89334  \n",
       "21290                              38.26665  \n",
       "21291                              54.26412  \n",
       "21292                              21.25000  \n",
       "21293                              38.88894  \n",
       "\n",
       "[5 rows x 26 columns]"
      ]
     },
     "execution_count": 4,
     "metadata": {},
     "output_type": "execute_result"
    }
   ],
   "source": [
    "# Imprimindo ultimos registros\n",
    "df.tail(5)"
   ]
  },
  {
   "cell_type": "code",
   "execution_count": 10,
   "metadata": {},
   "outputs": [
    {
     "name": "stdout",
     "output_type": "stream",
     "text": [
      "<class 'pandas.core.frame.DataFrame'>\n",
      "RangeIndex: 21294 entries, 0 to 21293\n",
      "Data columns (total 26 columns):\n",
      " #   Column                                 Non-Null Count  Dtype  \n",
      "---  ------                                 --------------  -----  \n",
      " 0   epi_week                               21294 non-null  int64  \n",
      " 1   date                                   21294 non-null  object \n",
      " 2   country                                21294 non-null  object \n",
      " 3   state                                  21294 non-null  object \n",
      " 4   city                                   21294 non-null  object \n",
      " 5   newDeaths                              21294 non-null  int64  \n",
      " 6   deaths                                 21294 non-null  int64  \n",
      " 7   newCases                               21294 non-null  int64  \n",
      " 8   totalCases                             21294 non-null  int64  \n",
      " 9   deathsMS                               21294 non-null  int64  \n",
      " 10  totalCasesMS                           21294 non-null  int64  \n",
      " 11  deaths_per_100k_inhabitants            21294 non-null  float64\n",
      " 12  totalCases_per_100k_inhabitants        21294 non-null  float64\n",
      " 13  deaths_by_totalCases                   21294 non-null  float64\n",
      " 14  recovered                              20651 non-null  float64\n",
      " 15  suspects                               18750 non-null  float64\n",
      " 16  tests                                  19950 non-null  float64\n",
      " 17  tests_per_100k_inhabitants             19950 non-null  float64\n",
      " 18  vaccinated                             12563 non-null  float64\n",
      " 19  vaccinated_per_100_inhabitants         12563 non-null  float64\n",
      " 20  vaccinated_second                      11883 non-null  float64\n",
      " 21  vaccinated_second_per_100_inhabitants  11883 non-null  float64\n",
      " 22  vaccinated_single                      7984 non-null   float64\n",
      " 23  vaccinated_single_per_100_inhabitants  7984 non-null   float64\n",
      " 24  vaccinated_third                       5724 non-null   float64\n",
      " 25  vaccinated_third_per_100_inhabitants   5724 non-null   float64\n",
      "dtypes: float64(15), int64(7), object(4)\n",
      "memory usage: 4.2+ MB\n"
     ]
    }
   ],
   "source": [
    "# Visualizando algumas informações do dataset\n",
    "df.info()"
   ]
  },
  {
   "cell_type": "markdown",
   "metadata": {},
   "source": [
    "#### Média móvel (morte) dos 7 dias anteriores (nível Brasil);"
   ]
  },
  {
   "cell_type": "markdown",
   "metadata": {},
   "source": [
    "Pegando a data atual e formatando para a saída do dataframe"
   ]
  },
  {
   "cell_type": "code",
   "execution_count": 5,
   "metadata": {},
   "outputs": [
    {
     "name": "stdout",
     "output_type": "stream",
     "text": [
      "2022-04-11 <class 'str'>\n"
     ]
    }
   ],
   "source": [
    "#Pegando a data atual\n",
    "\n",
    "naive = datetime.datetime.now()\n",
    "dia = pytz.timezone('America/Sao_Paulo').localize(naive).strftime(\"%Y-%m-%d\")\n",
    "\n",
    "print (dia, type(dia))"
   ]
  },
  {
   "cell_type": "markdown",
   "metadata": {},
   "source": [
    "Transformando a data string em date type, aplicando um delta de 7 dias e retornando a data"
   ]
  },
  {
   "cell_type": "code",
   "execution_count": 6,
   "metadata": {},
   "outputs": [
    {
     "name": "stdout",
     "output_type": "stream",
     "text": [
      "Dia de hoje:  2022-04-11 <class 'datetime.date'>\n",
      "Dia há uma semana atras: 2022-04-05 <class 'datetime.date'>\n"
     ]
    }
   ],
   "source": [
    "str_date = dia\n",
    "\n",
    "dia_atual = datetime.strptime(str_date, '%Y-%m-%d').date()\n",
    "\n",
    "\n",
    "# Abaixo vamos usar 6 dias como delta p/ semana pois a função between utilizada mais a frente possui intervalo aberto\n",
    "data_sete_dias = dia_atual - timedelta(days = 6)\n",
    "print('Dia de hoje: ', dia_atual, type(dia_atual))\n",
    "print('Dia há uma semana atras:', data_sete_dias, type(data_sete_dias))\n",
    "\n"
   ]
  },
  {
   "cell_type": "markdown",
   "metadata": {},
   "source": [
    "Com isso, temos as datas que serão utilizadas como parâmetros para a montagem da solução"
   ]
  },
  {
   "cell_type": "code",
   "execution_count": 7,
   "metadata": {},
   "outputs": [],
   "source": [
    "# Dropando as colunas de estado, deixando a informação em nível de Brasil\n",
    "df_deaths = df[df.state == \"TOTAL\"]"
   ]
  },
  {
   "cell_type": "code",
   "execution_count": 8,
   "metadata": {},
   "outputs": [
    {
     "name": "stderr",
     "output_type": "stream",
     "text": [
      "C:\\Users\\f_lan\\anaconda3\\lib\\site-packages\\pandas\\core\\frame.py:3990: SettingWithCopyWarning: \n",
      "A value is trying to be set on a copy of a slice from a DataFrame\n",
      "\n",
      "See the caveats in the documentation: https://pandas.pydata.org/pandas-docs/stable/user_guide/indexing.html#returning-a-view-versus-a-copy\n",
      "  return super().drop(\n"
     ]
    }
   ],
   "source": [
    "# Dropando colunas que não vamos usar\n",
    "df_deaths.drop(['epi_week', 'newDeaths', 'newCases', 'totalCases', 'deathsMS', 'tests', 'tests_per_100k_inhabitants', 'vaccinated', 'vaccinated_per_100_inhabitants', 'vaccinated_second', 'vaccinated_second_per_100_inhabitants', 'vaccinated_single', 'vaccinated_single_per_100_inhabitants', 'vaccinated_third', 'vaccinated_third_per_100_inhabitants', 'totalCasesMS', 'deaths_per_100k_inhabitants', 'totalCases_per_100k_inhabitants', 'deaths_by_totalCases', 'recovered', 'suspects'], axis=1, inplace=True)"
   ]
  },
  {
   "cell_type": "code",
   "execution_count": 12,
   "metadata": {},
   "outputs": [
    {
     "name": "stderr",
     "output_type": "stream",
     "text": [
      "<ipython-input-12-e98c4867706e>:3: SettingWithCopyWarning: \n",
      "A value is trying to be set on a copy of a slice from a DataFrame.\n",
      "Try using .loc[row_indexer,col_indexer] = value instead\n",
      "\n",
      "See the caveats in the documentation: https://pandas.pydata.org/pandas-docs/stable/user_guide/indexing.html#returning-a-view-versus-a-copy\n",
      "  df_deaths['Datetime'] = pd.to_datetime(df_deaths['date']).dt.date\n"
     ]
    }
   ],
   "source": [
    "# Criando uma coluna Datetime que será utilizada como parâmetro para as funções lógicas envolvendo data\n",
    "# Isso é necessário pois o campo 'date' é string\n",
    "df_deaths['Datetime'] = pd.to_datetime(df_deaths['date']).dt.date"
   ]
  },
  {
   "cell_type": "code",
   "execution_count": 14,
   "metadata": {},
   "outputs": [],
   "source": [
    "# Pegando o range de time que nos interessa\n",
    "filtered_df =df_deaths.loc[df_deaths[\"Datetime\"].between(data_sete_dias, dia_atual)]"
   ]
  },
  {
   "cell_type": "code",
   "execution_count": 15,
   "metadata": {},
   "outputs": [
    {
     "data": {
      "text/html": [
       "<div>\n",
       "<style scoped>\n",
       "    .dataframe tbody tr th:only-of-type {\n",
       "        vertical-align: middle;\n",
       "    }\n",
       "\n",
       "    .dataframe tbody tr th {\n",
       "        vertical-align: top;\n",
       "    }\n",
       "\n",
       "    .dataframe thead th {\n",
       "        text-align: right;\n",
       "    }\n",
       "</style>\n",
       "<table border=\"1\" class=\"dataframe\">\n",
       "  <thead>\n",
       "    <tr style=\"text-align: right;\">\n",
       "      <th></th>\n",
       "      <th>date</th>\n",
       "      <th>country</th>\n",
       "      <th>state</th>\n",
       "      <th>city</th>\n",
       "      <th>deaths</th>\n",
       "      <th>Datetime</th>\n",
       "    </tr>\n",
       "  </thead>\n",
       "  <tbody>\n",
       "    <tr>\n",
       "      <th>21125</th>\n",
       "      <td>2022-04-05</td>\n",
       "      <td>Brazil</td>\n",
       "      <td>TOTAL</td>\n",
       "      <td>TOTAL</td>\n",
       "      <td>660786</td>\n",
       "      <td>2022-04-05</td>\n",
       "    </tr>\n",
       "    <tr>\n",
       "      <th>21153</th>\n",
       "      <td>2022-04-06</td>\n",
       "      <td>Brazil</td>\n",
       "      <td>TOTAL</td>\n",
       "      <td>TOTAL</td>\n",
       "      <td>660980</td>\n",
       "      <td>2022-04-06</td>\n",
       "    </tr>\n",
       "    <tr>\n",
       "      <th>21181</th>\n",
       "      <td>2022-04-07</td>\n",
       "      <td>Brazil</td>\n",
       "      <td>TOTAL</td>\n",
       "      <td>TOTAL</td>\n",
       "      <td>661228</td>\n",
       "      <td>2022-04-07</td>\n",
       "    </tr>\n",
       "    <tr>\n",
       "      <th>21209</th>\n",
       "      <td>2022-04-08</td>\n",
       "      <td>Brazil</td>\n",
       "      <td>TOTAL</td>\n",
       "      <td>TOTAL</td>\n",
       "      <td>661228</td>\n",
       "      <td>2022-04-08</td>\n",
       "    </tr>\n",
       "    <tr>\n",
       "      <th>21237</th>\n",
       "      <td>2022-04-09</td>\n",
       "      <td>Brazil</td>\n",
       "      <td>TOTAL</td>\n",
       "      <td>TOTAL</td>\n",
       "      <td>661475</td>\n",
       "      <td>2022-04-09</td>\n",
       "    </tr>\n",
       "    <tr>\n",
       "      <th>21265</th>\n",
       "      <td>2022-04-10</td>\n",
       "      <td>Brazil</td>\n",
       "      <td>TOTAL</td>\n",
       "      <td>TOTAL</td>\n",
       "      <td>661513</td>\n",
       "      <td>2022-04-10</td>\n",
       "    </tr>\n",
       "    <tr>\n",
       "      <th>21293</th>\n",
       "      <td>2022-04-11</td>\n",
       "      <td>Brazil</td>\n",
       "      <td>TOTAL</td>\n",
       "      <td>TOTAL</td>\n",
       "      <td>661576</td>\n",
       "      <td>2022-04-11</td>\n",
       "    </tr>\n",
       "  </tbody>\n",
       "</table>\n",
       "</div>"
      ],
      "text/plain": [
       "             date country  state   city  deaths    Datetime\n",
       "21125  2022-04-05  Brazil  TOTAL  TOTAL  660786  2022-04-05\n",
       "21153  2022-04-06  Brazil  TOTAL  TOTAL  660980  2022-04-06\n",
       "21181  2022-04-07  Brazil  TOTAL  TOTAL  661228  2022-04-07\n",
       "21209  2022-04-08  Brazil  TOTAL  TOTAL  661228  2022-04-08\n",
       "21237  2022-04-09  Brazil  TOTAL  TOTAL  661475  2022-04-09\n",
       "21265  2022-04-10  Brazil  TOTAL  TOTAL  661513  2022-04-10\n",
       "21293  2022-04-11  Brazil  TOTAL  TOTAL  661576  2022-04-11"
      ]
     },
     "execution_count": 15,
     "metadata": {},
     "output_type": "execute_result"
    }
   ],
   "source": [
    "# Printando o df final\n",
    "filtered_df.head(10)"
   ]
  },
  {
   "cell_type": "code",
   "execution_count": 16,
   "metadata": {},
   "outputs": [],
   "source": [
    "# Obtendo os valores minimo e máximo do intervalo\n",
    "max= filtered_df.deaths.max()\n",
    "min= filtered_df.deaths.min()"
   ]
  },
  {
   "cell_type": "code",
   "execution_count": 17,
   "metadata": {},
   "outputs": [
    {
     "name": "stdout",
     "output_type": "stream",
     "text": [
      "Total de mortes nos últimos 7 dias: 790\n"
     ]
    }
   ],
   "source": [
    "# Calculando a diferença, resultando no total de mortes\n",
    "dif = max - min\n",
    "print (\"Total de mortes nos últimos 7 dias:\", dif)"
   ]
  },
  {
   "cell_type": "code",
   "execution_count": 18,
   "metadata": {},
   "outputs": [
    {
     "name": "stdout",
     "output_type": "stream",
     "text": [
      "A média móvel é de 112.85714285714286 mortes por dia no Brasil.\n"
     ]
    }
   ],
   "source": [
    "# Printando a média móvel\n",
    "media_movel = dif/7\n",
    "print(f\"A média móvel é de {media_movel} mortes por dia no Brasil.\")"
   ]
  },
  {
   "cell_type": "code",
   "execution_count": 19,
   "metadata": {},
   "outputs": [
    {
     "data": {
      "text/plain": [
       "str"
      ]
     },
     "execution_count": 19,
     "metadata": {},
     "output_type": "execute_result"
    }
   ],
   "source": [
    "# Transformando a média p/ string\n",
    "media_movel = str(media_movel)\n",
    "type(media_movel)"
   ]
  },
  {
   "cell_type": "markdown",
   "metadata": {},
   "source": [
    "Criando a API"
   ]
  },
  {
   "cell_type": "markdown",
   "metadata": {},
   "source": [
    "Com a tratativa acima feita, passaremos apenas o valor descoberto para a nossa api."
   ]
  },
  {
   "cell_type": "code",
   "execution_count": 20,
   "metadata": {},
   "outputs": [
    {
     "name": "stdout",
     "output_type": "stream",
     "text": [
      " * Serving Flask app \"__main__\" (lazy loading)\n",
      " * Environment: production\n",
      "   WARNING: This is a development server. Do not use it in a production deployment.\n",
      "   Use a production WSGI server instead.\n",
      " * Debug mode: off\n"
     ]
    },
    {
     "name": "stderr",
     "output_type": "stream",
     "text": [
      " * Running on http://0.0.0.0:5051/ (Press CTRL+C to quit)\n",
      "127.0.0.1 - - [11/Apr/2022 21:27:40] \"\u001b[37mGET /brasil HTTP/1.1\u001b[0m\" 200 -\n"
     ]
    }
   ],
   "source": [
    "app = Flask(__name__)\n",
    "\n",
    "@app.route(\"/brasil\", methods=[\"GET\"])\n",
    "def get_media_brasil():\n",
    "    return media_movel\n",
    "    \n",
    "\n",
    "if __name__ == \"__main__\":\n",
    "    app.run(host='0.0.0.0', port=5051)"
   ]
  },
  {
   "cell_type": "markdown",
   "metadata": {},
   "source": [
    "Resultado Esperado"
   ]
  },
  {
   "cell_type": "markdown",
   "metadata": {},
   "source": [
    "![title](../src/v1.png)"
   ]
  },
  {
   "cell_type": "markdown",
   "metadata": {},
   "source": [
    "#### Média móvel (morte) dos 7 dias anteriores, selecionando o estado;"
   ]
  },
  {
   "cell_type": "markdown",
   "metadata": {},
   "source": [
    "Processo semelhante ao anterior, porém passamos o argumento estado pela url, para que exista a dinamicidade."
   ]
  },
  {
   "cell_type": "code",
   "execution_count": 24,
   "metadata": {},
   "outputs": [
    {
     "name": "stdout",
     "output_type": "stream",
     "text": [
      " * Serving Flask app \"__main__\" (lazy loading)\n",
      " * Environment: production\n",
      "   WARNING: This is a development server. Do not use it in a production deployment.\n",
      "   Use a production WSGI server instead.\n",
      " * Debug mode: off\n"
     ]
    },
    {
     "name": "stderr",
     "output_type": "stream",
     "text": [
      " * Running on http://0.0.0.0:5051/ (Press CTRL+C to quit)\n",
      "127.0.0.1 - - [11/Apr/2022 19:12:17] \"\u001b[32mGET /RJ HTTP/1.1\u001b[0m\" 308 -\n",
      "<ipython-input-24-a43428d7c8c7>:11: SettingWithCopyWarning: \n",
      "A value is trying to be set on a copy of a slice from a DataFrame.\n",
      "Try using .loc[row_indexer,col_indexer] = value instead\n",
      "\n",
      "See the caveats in the documentation: https://pandas.pydata.org/pandas-docs/stable/user_guide/indexing.html#returning-a-view-versus-a-copy\n",
      "  df_estado['Datetime'] = pd.to_datetime(df_estado['date']).dt.date\n",
      "127.0.0.1 - - [11/Apr/2022 19:12:17] \"\u001b[37mGET /RJ/ HTTP/1.1\u001b[0m\" 200 -\n"
     ]
    },
    {
     "name": "stdout",
     "output_type": "stream",
     "text": [
      "Total de mortes nos últimos 7 dias: 91\n"
     ]
    }
   ],
   "source": [
    "app = Flask(__name__)\n",
    "\n",
    "\n",
    "@app.route(\"/<estado>/\", methods=[\"GET\"]) # Estado sendo passado como argumento\n",
    "def get_media_estado(estado):\n",
    "    df_estado = df[df.state == f\"{estado}\"]\n",
    "    df_estado.drop(['epi_week', 'newDeaths', 'newCases', 'totalCases', 'deathsMS', 'tests', 'tests_per_100k_inhabitants', 'vaccinated', 'vaccinated_per_100_inhabitants', 'vaccinated_second', 'vaccinated_second_per_100_inhabitants', 'vaccinated_single', 'vaccinated_single_per_100_inhabitants', 'vaccinated_third', 'vaccinated_third_per_100_inhabitants', 'totalCasesMS', 'deaths_per_100k_inhabitants', 'totalCases_per_100k_inhabitants', 'deaths_by_totalCases', 'recovered', 'suspects'], axis=1, inplace=True)\n",
    "\n",
    "    df_estado['Datetime'] = pd.to_datetime(df_estado['date']).dt.date\n",
    "    filtered_df =df_estado.loc[df_estado[\"Datetime\"].between(data_sete_dias, dia_atual)]\n",
    "\n",
    "    max= filtered_df.deaths.max()\n",
    "    min= filtered_df.deaths.min()\n",
    "\n",
    "    dif = max - min\n",
    "    print (\"Total de mortes nos últimos 7 dias:\", dif)\n",
    "\n",
    "    media_movel = dif/7\n",
    "    media_movel = str(media_movel)\n",
    "    \n",
    "    return media_movel\n",
    "\n",
    "\n",
    "if __name__ == \"__main__\":\n",
    "    app.run(host='0.0.0.0', port=5051)"
   ]
  },
  {
   "cell_type": "markdown",
   "metadata": {},
   "source": [
    "![title](../src/v3.png)"
   ]
  },
  {
   "cell_type": "markdown",
   "metadata": {},
   "source": [
    "#### Gráfico de barras com o número de casos do dia por estados;\n"
   ]
  },
  {
   "cell_type": "markdown",
   "metadata": {},
   "source": [
    "Para este exercícios, aplicamos um delta de 2 dias pois tanto na data atual quanto no dia anterior o Dataset ainda não havia sido atualizado com as informações de casos novos."
   ]
  },
  {
   "cell_type": "code",
   "execution_count": 22,
   "metadata": {},
   "outputs": [
    {
     "name": "stderr",
     "output_type": "stream",
     "text": [
      "C:\\Users\\f_lan\\anaconda3\\lib\\site-packages\\pandas\\core\\frame.py:3990: SettingWithCopyWarning: \n",
      "A value is trying to be set on a copy of a slice from a DataFrame\n",
      "\n",
      "See the caveats in the documentation: https://pandas.pydata.org/pandas-docs/stable/user_guide/indexing.html#returning-a-view-versus-a-copy\n",
      "  return super().drop(\n"
     ]
    },
    {
     "data": {
      "text/html": [
       "<div>\n",
       "<style scoped>\n",
       "    .dataframe tbody tr th:only-of-type {\n",
       "        vertical-align: middle;\n",
       "    }\n",
       "\n",
       "    .dataframe tbody tr th {\n",
       "        vertical-align: top;\n",
       "    }\n",
       "\n",
       "    .dataframe thead th {\n",
       "        text-align: right;\n",
       "    }\n",
       "</style>\n",
       "<table border=\"1\" class=\"dataframe\">\n",
       "  <thead>\n",
       "    <tr style=\"text-align: right;\">\n",
       "      <th></th>\n",
       "      <th>state</th>\n",
       "      <th>newDeaths</th>\n",
       "      <th>deaths</th>\n",
       "      <th>newCases</th>\n",
       "      <th>Datetime</th>\n",
       "    </tr>\n",
       "  </thead>\n",
       "  <tbody>\n",
       "    <tr>\n",
       "      <th>21210</th>\n",
       "      <td>AC</td>\n",
       "      <td>1</td>\n",
       "      <td>1995</td>\n",
       "      <td>5</td>\n",
       "      <td>2022-04-09</td>\n",
       "    </tr>\n",
       "    <tr>\n",
       "      <th>21211</th>\n",
       "      <td>AL</td>\n",
       "      <td>5</td>\n",
       "      <td>6903</td>\n",
       "      <td>97</td>\n",
       "      <td>2022-04-09</td>\n",
       "    </tr>\n",
       "    <tr>\n",
       "      <th>21212</th>\n",
       "      <td>AM</td>\n",
       "      <td>0</td>\n",
       "      <td>14160</td>\n",
       "      <td>75</td>\n",
       "      <td>2022-04-09</td>\n",
       "    </tr>\n",
       "    <tr>\n",
       "      <th>21213</th>\n",
       "      <td>AP</td>\n",
       "      <td>0</td>\n",
       "      <td>2128</td>\n",
       "      <td>0</td>\n",
       "      <td>2022-04-09</td>\n",
       "    </tr>\n",
       "    <tr>\n",
       "      <th>21214</th>\n",
       "      <td>BA</td>\n",
       "      <td>20</td>\n",
       "      <td>29768</td>\n",
       "      <td>724</td>\n",
       "      <td>2022-04-09</td>\n",
       "    </tr>\n",
       "    <tr>\n",
       "      <th>21215</th>\n",
       "      <td>CE</td>\n",
       "      <td>11</td>\n",
       "      <td>26817</td>\n",
       "      <td>550</td>\n",
       "      <td>2022-04-09</td>\n",
       "    </tr>\n",
       "    <tr>\n",
       "      <th>21216</th>\n",
       "      <td>DF</td>\n",
       "      <td>4</td>\n",
       "      <td>11610</td>\n",
       "      <td>187</td>\n",
       "      <td>2022-04-09</td>\n",
       "    </tr>\n",
       "    <tr>\n",
       "      <th>21217</th>\n",
       "      <td>ES</td>\n",
       "      <td>12</td>\n",
       "      <td>14357</td>\n",
       "      <td>982</td>\n",
       "      <td>2022-04-09</td>\n",
       "    </tr>\n",
       "    <tr>\n",
       "      <th>21218</th>\n",
       "      <td>GO</td>\n",
       "      <td>21</td>\n",
       "      <td>26348</td>\n",
       "      <td>9492</td>\n",
       "      <td>2022-04-09</td>\n",
       "    </tr>\n",
       "    <tr>\n",
       "      <th>21219</th>\n",
       "      <td>MA</td>\n",
       "      <td>1</td>\n",
       "      <td>10877</td>\n",
       "      <td>492</td>\n",
       "      <td>2022-04-09</td>\n",
       "    </tr>\n",
       "    <tr>\n",
       "      <th>21220</th>\n",
       "      <td>MG</td>\n",
       "      <td>39</td>\n",
       "      <td>61034</td>\n",
       "      <td>4884</td>\n",
       "      <td>2022-04-09</td>\n",
       "    </tr>\n",
       "    <tr>\n",
       "      <th>21221</th>\n",
       "      <td>MS</td>\n",
       "      <td>0</td>\n",
       "      <td>10513</td>\n",
       "      <td>609</td>\n",
       "      <td>2022-04-09</td>\n",
       "    </tr>\n",
       "    <tr>\n",
       "      <th>21222</th>\n",
       "      <td>MT</td>\n",
       "      <td>0</td>\n",
       "      <td>14854</td>\n",
       "      <td>0</td>\n",
       "      <td>2022-04-09</td>\n",
       "    </tr>\n",
       "    <tr>\n",
       "      <th>21223</th>\n",
       "      <td>PA</td>\n",
       "      <td>8</td>\n",
       "      <td>18153</td>\n",
       "      <td>1076</td>\n",
       "      <td>2022-04-09</td>\n",
       "    </tr>\n",
       "    <tr>\n",
       "      <th>21224</th>\n",
       "      <td>PB</td>\n",
       "      <td>0</td>\n",
       "      <td>10197</td>\n",
       "      <td>544</td>\n",
       "      <td>2022-04-09</td>\n",
       "    </tr>\n",
       "    <tr>\n",
       "      <th>21225</th>\n",
       "      <td>PE</td>\n",
       "      <td>18</td>\n",
       "      <td>21479</td>\n",
       "      <td>2562</td>\n",
       "      <td>2022-04-09</td>\n",
       "    </tr>\n",
       "    <tr>\n",
       "      <th>21226</th>\n",
       "      <td>PI</td>\n",
       "      <td>1</td>\n",
       "      <td>7732</td>\n",
       "      <td>71</td>\n",
       "      <td>2022-04-09</td>\n",
       "    </tr>\n",
       "    <tr>\n",
       "      <th>21227</th>\n",
       "      <td>PR</td>\n",
       "      <td>13</td>\n",
       "      <td>42978</td>\n",
       "      <td>3062</td>\n",
       "      <td>2022-04-09</td>\n",
       "    </tr>\n",
       "    <tr>\n",
       "      <th>21228</th>\n",
       "      <td>RJ</td>\n",
       "      <td>6</td>\n",
       "      <td>73039</td>\n",
       "      <td>3059</td>\n",
       "      <td>2022-04-09</td>\n",
       "    </tr>\n",
       "    <tr>\n",
       "      <th>21229</th>\n",
       "      <td>RN</td>\n",
       "      <td>0</td>\n",
       "      <td>8153</td>\n",
       "      <td>878</td>\n",
       "      <td>2022-04-09</td>\n",
       "    </tr>\n",
       "    <tr>\n",
       "      <th>21230</th>\n",
       "      <td>RO</td>\n",
       "      <td>1</td>\n",
       "      <td>7191</td>\n",
       "      <td>654</td>\n",
       "      <td>2022-04-09</td>\n",
       "    </tr>\n",
       "    <tr>\n",
       "      <th>21231</th>\n",
       "      <td>RR</td>\n",
       "      <td>0</td>\n",
       "      <td>2146</td>\n",
       "      <td>19</td>\n",
       "      <td>2022-04-09</td>\n",
       "    </tr>\n",
       "    <tr>\n",
       "      <th>21232</th>\n",
       "      <td>RS</td>\n",
       "      <td>17</td>\n",
       "      <td>39155</td>\n",
       "      <td>7023</td>\n",
       "      <td>2022-04-09</td>\n",
       "    </tr>\n",
       "    <tr>\n",
       "      <th>21233</th>\n",
       "      <td>SC</td>\n",
       "      <td>10</td>\n",
       "      <td>21702</td>\n",
       "      <td>1821</td>\n",
       "      <td>2022-04-09</td>\n",
       "    </tr>\n",
       "    <tr>\n",
       "      <th>21234</th>\n",
       "      <td>SE</td>\n",
       "      <td>4</td>\n",
       "      <td>6333</td>\n",
       "      <td>75</td>\n",
       "      <td>2022-04-09</td>\n",
       "    </tr>\n",
       "    <tr>\n",
       "      <th>21235</th>\n",
       "      <td>SP</td>\n",
       "      <td>55</td>\n",
       "      <td>167706</td>\n",
       "      <td>12361</td>\n",
       "      <td>2022-04-09</td>\n",
       "    </tr>\n",
       "    <tr>\n",
       "      <th>21236</th>\n",
       "      <td>TO</td>\n",
       "      <td>0</td>\n",
       "      <td>4147</td>\n",
       "      <td>139</td>\n",
       "      <td>2022-04-09</td>\n",
       "    </tr>\n",
       "    <tr>\n",
       "      <th>21237</th>\n",
       "      <td>TOTAL</td>\n",
       "      <td>247</td>\n",
       "      <td>661475</td>\n",
       "      <td>51441</td>\n",
       "      <td>2022-04-09</td>\n",
       "    </tr>\n",
       "  </tbody>\n",
       "</table>\n",
       "</div>"
      ],
      "text/plain": [
       "       state  newDeaths  deaths  newCases    Datetime\n",
       "21210     AC          1    1995         5  2022-04-09\n",
       "21211     AL          5    6903        97  2022-04-09\n",
       "21212     AM          0   14160        75  2022-04-09\n",
       "21213     AP          0    2128         0  2022-04-09\n",
       "21214     BA         20   29768       724  2022-04-09\n",
       "21215     CE         11   26817       550  2022-04-09\n",
       "21216     DF          4   11610       187  2022-04-09\n",
       "21217     ES         12   14357       982  2022-04-09\n",
       "21218     GO         21   26348      9492  2022-04-09\n",
       "21219     MA          1   10877       492  2022-04-09\n",
       "21220     MG         39   61034      4884  2022-04-09\n",
       "21221     MS          0   10513       609  2022-04-09\n",
       "21222     MT          0   14854         0  2022-04-09\n",
       "21223     PA          8   18153      1076  2022-04-09\n",
       "21224     PB          0   10197       544  2022-04-09\n",
       "21225     PE         18   21479      2562  2022-04-09\n",
       "21226     PI          1    7732        71  2022-04-09\n",
       "21227     PR         13   42978      3062  2022-04-09\n",
       "21228     RJ          6   73039      3059  2022-04-09\n",
       "21229     RN          0    8153       878  2022-04-09\n",
       "21230     RO          1    7191       654  2022-04-09\n",
       "21231     RR          0    2146        19  2022-04-09\n",
       "21232     RS         17   39155      7023  2022-04-09\n",
       "21233     SC         10   21702      1821  2022-04-09\n",
       "21234     SE          4    6333        75  2022-04-09\n",
       "21235     SP         55  167706     12361  2022-04-09\n",
       "21236     TO          0    4147       139  2022-04-09\n",
       "21237  TOTAL        247  661475     51441  2022-04-09"
      ]
     },
     "execution_count": 22,
     "metadata": {},
     "output_type": "execute_result"
    }
   ],
   "source": [
    "# Ajustando o df\n",
    "\n",
    "df2 = df.loc[:,'date':'newCases']                               # selecinando colunas\n",
    "df2['Datetime'] = pd.to_datetime(df2['date']).dt.date           # setando coluna de data\n",
    "dia_anterior = dia_atual - timedelta(days = 2)                  # pegando info do dia anterior\n",
    "filtered_df = df2.loc[df2['Datetime'] == dia_anterior]          # filtrando estados pela data\n",
    "filtered_df.drop(columns=['date', 'country', 'city'], axis=1, inplace=True)     # Dropando colunas\n",
    "filtered_df.head(50)                                            # visualizando df\n"
   ]
  },
  {
   "cell_type": "code",
   "execution_count": 25,
   "metadata": {},
   "outputs": [
    {
     "data": {
      "image/png": "[encoded data removed]",
      "text/plain": [
       "<Figure size 432x1080 with 1 Axes>"
      ]
     },
     "metadata": {
      "needs_background": "light"
     },
     "output_type": "display_data"
    }
   ],
   "source": [
    "# Gerando o grafico\n",
    "# variaveis\n",
    "y='state'\n",
    "label='Datetime'\n",
    "x='newCases'\n",
    "data=filtered_df\n",
    "\n",
    "# criando imagem\n",
    "f, ax = plt.subplots(figsize=(6,15))\n",
    "\n",
    "# criando plot\n",
    "plot = sns.barplot(x=x, y=y, data=data,label=label,color='b')\n",
    "ax.set(xlabel= f\"{dia_anterior}, novos casos de Covid-19 \")\n",
    "ax.set(ylabel= \"Estado\")\n",
    "plt.show()\n"
   ]
  },
  {
   "cell_type": "markdown",
   "metadata": {},
   "source": [
    "Com o gráfico que queremos, vamos montar o nosso endpoint:"
   ]
  },
  {
   "cell_type": "code",
   "execution_count": 27,
   "metadata": {},
   "outputs": [
    {
     "name": "stdout",
     "output_type": "stream",
     "text": [
      " * Serving Flask app \"__main__\" (lazy loading)\n",
      " * Environment: production\n",
      "   WARNING: This is a development server. Do not use it in a production deployment.\n",
      "   Use a production WSGI server instead.\n",
      " * Debug mode: off\n"
     ]
    },
    {
     "name": "stderr",
     "output_type": "stream",
     "text": [
      " * Running on http://0.0.0.0:5051/ (Press CTRL+C to quit)\n",
      "127.0.0.1 - - [11/Apr/2022 21:37:37] \"\u001b[32mGET /casos HTTP/1.1\u001b[0m\" 308 -\n",
      "127.0.0.1 - - [11/Apr/2022 21:37:37] \"\u001b[37mGET /casos/ HTTP/1.1\u001b[0m\" 200 -\n"
     ]
    },
    {
     "data": {
      "image/png": "[encoded data removed]",
      "text/plain": [
       "<Figure size 432x1080 with 1 Axes>"
      ]
     },
     "metadata": {
      "needs_background": "light"
     },
     "output_type": "display_data"
    }
   ],
   "source": [
    "app = Flask(__name__, template_folder= 'static')\n",
    "\n",
    "\n",
    "@app.route(\"/casos/\", methods=[\"GET\"])\n",
    "def get_grafico_newcases():\n",
    "    # preparando o df\n",
    "    df2 = df.loc[:,'date':'newCases']\n",
    "    df2['Datetime'] = pd.to_datetime(df2['date']).dt.date\n",
    "    dia_anterior = dia_atual - timedelta(days = 2)\n",
    "    filtered_df = df2.loc[df2['Datetime'] == dia_anterior]\n",
    "    filtered_df.drop(columns=['date', 'country', 'city'], axis=1, inplace=True)\n",
    "\n",
    "    # preparando o grafico\n",
    "    y='state'\n",
    "    label='Datetime'\n",
    "    x='newCases'\n",
    "    data=filtered_df\n",
    "    f, ax = plt.subplots(figsize=(6,15))\n",
    "    sns.barplot(x=x, y=y, data=data,label=label,color='b')\n",
    "    \n",
    "    # salvando o grafico\n",
    "    plot = plt.gcf()  \n",
    "    plot.savefig('grafico_newcases.png', format='png')\n",
    "    \n",
    "    # retornando o grafico\n",
    "    image_name = 'grafico_newcases.png'\n",
    "    return send_from_directory(app.root_path, filename=image_name, as_attachment=True)\n",
    "\n",
    "\n",
    "\n",
    "if __name__ == \"__main__\":\n",
    "    app.run(host='0.0.0.0', port=5051)"
   ]
  },
  {
   "cell_type": "markdown",
   "metadata": {},
   "source": [
    "Resultado esperado:\n"
   ]
  },
  {
   "cell_type": "markdown",
   "metadata": {},
   "source": [
    "![title](../src/v4.png)"
   ]
  },
  {
   "cell_type": "markdown",
   "metadata": {},
   "source": [
    "#### Gráfico de linha com uma série temporal de casos, por estado, em que será recebido data de inicio data de fim"
   ]
  },
  {
   "cell_type": "code",
   "execution_count": 28,
   "metadata": {},
   "outputs": [],
   "source": [
    "# Preparando df\n",
    "df3 = df\n",
    "df3.drop(['epi_week', 'newDeaths', 'deathsMS', 'tests', 'tests_per_100k_inhabitants', 'vaccinated', 'vaccinated_per_100_inhabitants', 'vaccinated_second', 'vaccinated_second_per_100_inhabitants', 'vaccinated_single', 'vaccinated_single_per_100_inhabitants', 'vaccinated_third', 'vaccinated_third_per_100_inhabitants', 'totalCasesMS', 'deaths_per_100k_inhabitants', 'totalCases_per_100k_inhabitants', 'deaths_by_totalCases', 'recovered', 'suspects'], axis=1, inplace=True)\n",
    "df3['Datetime'] = pd.to_datetime(df3['date'], errors= 'coerce')"
   ]
  },
  {
   "cell_type": "code",
   "execution_count": 30,
   "metadata": {},
   "outputs": [
    {
     "data": {
      "image/png": "[encoded data removed]",
      "text/plain": [
       "<Figure size 1440x432 with 1 Axes>"
      ]
     },
     "metadata": {
      "needs_background": "light"
     },
     "output_type": "display_data"
    }
   ],
   "source": [
    "# Preparando o grafico geral\n",
    "x= df3['Datetime']\n",
    "y= df3['newCases']\n",
    "data = df3\n",
    "\n",
    "f, ax = plt.subplots(figsize=(20,6))\n",
    "\n",
    "plot = sns.lineplot(\n",
    "    x=x,\n",
    "    y=y,\n",
    "    data=data,\n",
    "    legend ='full'\n",
    "\n",
    ")\n",
    "ax.set(ylabel= f\"Quantidade da casos\")\n",
    "ax.set(xlabel= f\"Série temporal de casos COVID-19\")\n",
    "plt.show()\n"
   ]
  },
  {
   "cell_type": "markdown",
   "metadata": {},
   "source": [
    "Diferentemente do gráfico acima, o nosso desejo é retornar um gráfico dentro de um tempo determinado."
   ]
  },
  {
   "cell_type": "markdown",
   "metadata": {},
   "source": [
    "Sendo assim, iremos coletar essas infos atraves de um input do usuário, e pegaremos a info do estado de maneira semelhante ao que fizemos no exercício de média móvel por estado."
   ]
  },
  {
   "cell_type": "code",
   "execution_count": 31,
   "metadata": {},
   "outputs": [
    {
     "name": "stdout",
     "output_type": "stream",
     "text": [
      " * Serving Flask app \"__main__\" (lazy loading)\n",
      " * Environment: production\n",
      "   WARNING: This is a development server. Do not use it in a production deployment.\n",
      "   Use a production WSGI server instead.\n",
      " * Debug mode: off\n"
     ]
    },
    {
     "name": "stderr",
     "output_type": "stream",
     "text": [
      " * Running on http://0.0.0.0:5051/ (Press CTRL+C to quit)\n",
      "127.0.0.1 - - [11/Apr/2022 21:45:31] \"\u001b[32mGET /grafico/SP HTTP/1.1\u001b[0m\" 308 -\n",
      "127.0.0.1 - - [11/Apr/2022 21:45:31] \"\u001b[37mGET /grafico/SP/ HTTP/1.1\u001b[0m\" 200 -\n"
     ]
    },
    {
     "data": {
      "image/png": "[encoded data removed]",
      "text/plain": [
       "<Figure size 1440x432 with 1 Axes>"
      ]
     },
     "metadata": {
      "needs_background": "light"
     },
     "output_type": "display_data"
    }
   ],
   "source": [
    "# Pegando as informações do período de interesse\n",
    "dia_inicio = input(\"Digite a data ínicio no formato YYYY-MM-DD\")\n",
    "dia_fim = input(\"Digite a data fim no formato YYYY-MM-DD\")\n",
    "\n",
    "app = Flask(__name__)\n",
    "\n",
    "\n",
    "@app.route(\"/grafico/<estado>/\", methods=[\"GET\"])\n",
    "def plota_grafico_serie_temporal(estado):\n",
    "    # preparando df, incluindo variavel Datetime do dtype datetime\n",
    "    df3 = df\n",
    "    df3['Datetime'] = pd.to_datetime(df3['date'], errors= 'coerce')\n",
    "    df3 = df3[df3.state == f\"{estado}\"]\n",
    "    filtered_df =df3.loc[df3[\"Datetime\"].between(dia_inicio, dia_fim)]\n",
    "\n",
    "    # Variaveis\n",
    "    x= filtered_df['Datetime']\n",
    "    y= filtered_df['newCases']\n",
    "    data = filtered_df\n",
    "\n",
    "    # Criando o plot\n",
    "    f, ax = plt.subplots(figsize=(20,6))\n",
    "\n",
    "    plot = sns.lineplot(\n",
    "        x=x,\n",
    "        y=y,\n",
    "        data=data,\n",
    "        legend ='full'\n",
    "\n",
    "    )\n",
    "    ax.set(ylabel= f\"Quantidade da casos\")\n",
    "    ax.set(xlabel= f\"Série temporal de casos COVID-19\")\n",
    "    \n",
    "    # Salvando o gráfico\n",
    "    plot = plt.gcf()\n",
    "    plot.savefig('grafico_serietemporal.png', format='png')\n",
    "\n",
    "    # Retornando o gráfico\n",
    "    image_name = \"grafico_serietemporal.png\"\n",
    "    return send_from_directory(app.root_path, filename=image_name, as_attachment=True)\n",
    "\n",
    "\n",
    "if __name__ == \"__main__\":\n",
    "    app.run(host='0.0.0.0', port=5051)"
   ]
  },
  {
   "cell_type": "markdown",
   "metadata": {},
   "source": [
    "Resultado esperado: "
   ]
  },
  {
   "cell_type": "markdown",
   "metadata": {},
   "source": [
    "![title](../src/v5.png)"
   ]
  },
  {
   "cell_type": "markdown",
   "metadata": {},
   "source": [
    "## **Perguntas & Respostas**\n",
    "\n",
    "*1 - Antes, para conseguir essas informações, o usuário deveria ligar para o telefone do ministério da saúde solicitando estas informações. Entre um atendente e outro, para conseguir essas 4 informações (uma pessoa de São Paulo), o usuário levava cerca de 2min. Em quanto tempo esse usuário conseguiria essas informações utilizando a plataforma de vocês (soma do valor da latência média dos endpoints)?*<br>\n",
    "**Resposta:** Considerando que a informação já baixada da fonte (por se tratar de um dataset maior e que pode impactar na velocidade do carregamento dele), o usuário veria uma melhora significativa na busca das mesmas informações, levando até no máximo 1 minuto - isto é, uma redução de 50%.\n",
    "\n",
    "<br>\n",
    "\n",
    "*2 - Por que você escolheu essa fonte de dados e não outra? Que critérios vocês utilizaram para esta escolha?*<br>\n",
    "**Resposta:** Devido à facilidade de obtenção dela, hospedada no GitHub e atualizada frequentemente com os dados reportados pelas autoridades civis da área da saúde.\n",
    "\n",
    "<br>\n",
    "\n",
    "*3 - Um usuário cego deseja obter as informações. Seria possível a construção de alguma opção de acessibilidade para esse tipo de usuário?*<br>\n",
    "**Resposta:** Seria possível indicar o uso dessa API no navegador Microsoft Edge, que possui capacidade de leitura de informações de tela de forma nativa.\n",
    "\n",
    "<br>\n",
    "\n",
    "*4 - Um usuário que deseja assinar a \"newsletter\" do site, conseguiria receber estas informações diariamente em seu email?*<br>\n",
    "**Resposta:** Isso é relativamente fácil de implementar, apenas colocando o retorno dessas informações em variáveis dentro de um script em HTML com as informações da newsletter e ter um cronjob para enviá-la nessa periodicidade.\n",
    "\n",
    "<br>\n",
    "\n",
    "*5 - Considerando que era investido cerca de 0,10 centavos (dinheiro público) para cada ligação, que eram recebidas cerca de 100.000 ligações por dia e que a pandemia começou 01/03/2020 e terminou a exatamente 2 anos depois (situação hipotética), quanto você cobraria pra implantar sua solução, considerando que vocês como empresa querem maximizar os lucros e ao mesmo tempo, tornar a proposta atrativa para o governo? Por que esse valor foi escolhido?*<br>\n",
    "**Resposta:** Baseando a solução em termos de custo de chamadas de API pelo provedor de nuvem AWS, temos que o valor (levando em conta num primeiro momento apenas o número de chamadas ao longo do tempo determinado no enunciado) seria de aproximadamente 350 dólares mensais para o funcionamento da API."
   ]
  },
  {
   "cell_type": "markdown",
   "metadata": {},
   "source": [
    "## **Referências**\n",
    "\n",
    "1.   W. Cota, **“Monitoring the number of COVID-19 cases and deaths in brazil at municipal and federative units level”**, SciELOPreprints:362 (2020), [10.1590/scielopreprints.362](https://doi.org/10.1590/SciELOPreprints.362)\n",
    "2.   G. S. Costa, W. Cota, S. C. Ferreira, **\"Outbreak diversity in epidemic waves propagating through distinct geographical scales\"**, Phys. Rev. Research 2, 043306, [10.1103/PhysRevResearch.2.043306](https://doi.org/10.1103/PhysRevResearch.2.043306)\n",
    "3.   R. Li, S. Pei, B. Chen, Y. Song, T. Zhang, W. Yang, J. Shaman, **\"Substantial undocumented infection facilitates the rapid dissemination of novel coronavirus (SARS-CoV-2)\"**, [Science 368, 489 (2020)](https://www.science.org/doi/10.1126/science.abb3221).\n"
   ]
  },
  {
   "cell_type": "code",
   "execution_count": null,
   "metadata": {},
   "outputs": [],
   "source": []
  }
 ],
 "metadata": {
  "interpreter": {
   "hash": "9832ce50cbbb79a7abd9c4e986cf0a71625a257eaf12ef975d3993e74102ba0e"
  },
  "kernelspec": {
   "display_name": "Python 3.8.3 ('base')",
   "language": "python",
   "name": "python3"
  },
  "language_info": {
   "codemirror_mode": {
    "name": "ipython",
    "version": 3
   },
   "file_extension": ".py",
   "mimetype": "text/x-python",
   "name": "python",
   "nbconvert_exporter": "python",
   "pygments_lexer": "ipython3",
   "version": "3.8.3"
  },
  "orig_nbformat": 4
 },
 "nbformat": 4,
 "nbformat_minor": 2
}
